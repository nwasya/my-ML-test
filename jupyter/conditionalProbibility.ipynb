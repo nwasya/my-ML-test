{
 "cells": [
  {
   "cell_type": "code",
   "execution_count": 6,
   "id": "ca6382e6-9103-40fe-8c6e-3923474da5f4",
   "metadata": {},
   "outputs": [],
   "source": [
    "from numpy import random"
   ]
  },
  {
   "cell_type": "code",
   "execution_count": 7,
   "id": "040298c0-0e6e-4c6b-9531-6ba4362ba239",
   "metadata": {},
   "outputs": [],
   "source": [
    "random.seed() #har seri run eliyanda bi adad lar geytarar\n",
    "totals = {20:0,30:0,40:0,50:0,60:0,70:0,} #tedad  karbar bar asas sen\n",
    "purchases = {20:0,30:0,40:0,50:0,60:0,70:0,} #tedad xarid haaro bar asas sen\n",
    "totalPurchases = 0\n",
    "for person in range(10000):\n",
    "    age = random.choice([20,30,40,50,60,70])\n",
    "    purchaseProbibility = float(age) / 100.0 #ozumuz tarifladix har che sen chox ehtemal chox\n",
    "    totals[age] += 1\n",
    "    #garah diyax aya bida karbar xarid anjam mide ya yox\n",
    "    if random.random() < purchaseProbibility: #ye adad alaki ke ehtemal dar nazar gerefte shod mishe har ehtemali bashe\n",
    "        totalPurchases += 1 #xarid anjam bede\n",
    "        purchases[age] += 1\n",
    "\n",
    "        "
   ]
  },
  {
   "cell_type": "code",
   "execution_count": 8,
   "id": "6a4e7e9c-3c44-4bfb-be6e-778096c39084",
   "metadata": {},
   "outputs": [
    {
     "data": {
      "text/plain": [
       "{20: 1667, 30: 1701, 40: 1713, 50: 1639, 60: 1608, 70: 1672}"
      ]
     },
     "execution_count": 8,
     "metadata": {},
     "output_type": "execute_result"
    }
   ],
   "source": [
    "totals"
   ]
  },
  {
   "cell_type": "code",
   "execution_count": 12,
   "id": "11c850b5-4cbb-4d34-8749-9ee105d213b9",
   "metadata": {},
   "outputs": [
    {
     "data": {
      "text/plain": [
       "0.6361769037516916"
      ]
     },
     "execution_count": 12,
     "metadata": {},
     "output_type": "execute_result"
    }
   ],
   "source": [
    "random.random()"
   ]
  },
  {
   "cell_type": "code",
   "execution_count": null,
   "id": "d19a8bd6-0516-4b11-998a-55fc8d08943f",
   "metadata": {},
   "outputs": [],
   "source": []
  }
 ],
 "metadata": {
  "kernelspec": {
   "display_name": "Python 3 (ipykernel)",
   "language": "python",
   "name": "python3"
  },
  "language_info": {
   "codemirror_mode": {
    "name": "ipython",
    "version": 3
   },
   "file_extension": ".py",
   "mimetype": "text/x-python",
   "name": "python",
   "nbconvert_exporter": "python",
   "pygments_lexer": "ipython3",
   "version": "3.10.4"
  }
 },
 "nbformat": 4,
 "nbformat_minor": 5
}
